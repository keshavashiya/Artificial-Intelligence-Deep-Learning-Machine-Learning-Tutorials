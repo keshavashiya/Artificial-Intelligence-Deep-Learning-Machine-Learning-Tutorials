{
 "cells": [
  {
   "cell_type": "markdown",
   "metadata": {},
   "source": [
    "### Random Seeds"
   ]
  },
  {
   "cell_type": "markdown",
   "metadata": {},
   "source": [
    "The `random` module provides a variety of functions related to (pseudo) random numbers.\n",
    "\n",
    "The problem when you use random numbers in your code is that it can be difficult to debug because the same random number sequence is not the same from run to run of your program. If your code fails somewhere in the middle of a run it is difficult to make the problem **repeatable**. Debugging intermittent and non-repeatable failures is one of the worst things to do!\n",
    "\n",
    "Fortunately, when using the `random` module, we can set the `seed` for the random underlying random number generator.\n",
    "\n",
    "Random numbers are not truly random - they are generated in such a way that the numbers *appear* random and evenly distributed, but in fact they are being generated using a specific algorithm.\n",
    "\n",
    "That algorithm depends on a **seed** value. That seed value will determine the exact sequence of randomly generated numbers (so as you can see, it's not truly random). Setting different seeds will result in different random sequences, but setting the seed to the same value will result in the same sequence being generated.\n",
    "\n",
    "By default, the seed uses the system time, hence every time you run your program a different seed is set. But we can easily set the seed to something specific - very useful for debugging purposes."
   ]
  },
  {
   "cell_type": "code",
   "execution_count": 1,
   "metadata": {},
   "outputs": [],
   "source": [
    "import random"
   ]
  },
  {
   "cell_type": "code",
   "execution_count": 2,
   "metadata": {},
   "outputs": [
    {
     "name": "stdout",
     "output_type": "stream",
     "text": [
      "18 0.6970497199436234\n",
      "10 0.9043889836067943\n",
      "10 0.33229950578061407\n",
      "10 0.5329895934285527\n",
      "20 0.33103556763800135\n",
      "18 0.4257173408354309\n",
      "14 0.07296516193822011\n",
      "17 0.7870090758242302\n",
      "18 0.7885583825347221\n",
      "14 0.7747585295038245\n"
     ]
    }
   ],
   "source": [
    "for _ in range(10):\n",
    "    print(random.randint(10, 20), random.random())"
   ]
  },
  {
   "cell_type": "code",
   "execution_count": 3,
   "metadata": {},
   "outputs": [
    {
     "name": "stdout",
     "output_type": "stream",
     "text": [
      "10 0.06178178078330976\n",
      "17 0.7403272103404513\n",
      "12 0.9891760199925627\n",
      "18 0.6099504440780866\n",
      "17 0.1818025943771462\n",
      "19 0.9273010585190405\n",
      "13 0.7058203063263321\n",
      "13 0.22795689181939127\n",
      "10 0.8181706130991929\n",
      "11 0.9868454707363087\n"
     ]
    }
   ],
   "source": [
    "for _ in range(10):\n",
    "    print(random.randint(10, 20), random.random())"
   ]
  },
  {
   "cell_type": "markdown",
   "metadata": {},
   "source": [
    "As you can see the sequence of numbers is not the same (and even restarting the kernel will result in different numbers)."
   ]
  },
  {
   "cell_type": "markdown",
   "metadata": {},
   "source": [
    "We can set the **seed** as follows:"
   ]
  },
  {
   "cell_type": "code",
   "execution_count": 4,
   "metadata": {},
   "outputs": [
    {
     "name": "stdout",
     "output_type": "stream",
     "text": [
      "16 0.7579544029403025\n",
      "16 0.04048437818077755\n",
      "18 0.48592769656281265\n",
      "14 0.9677999949201714\n",
      "15 0.5833820394550312\n",
      "13 0.5046868558173903\n",
      "14 0.1397457849666789\n",
      "11 0.6183689966753316\n",
      "14 0.9872592010330129\n",
      "18 0.9827854760376531\n"
     ]
    }
   ],
   "source": [
    "random.seed(0)\n",
    "for i in range(10):\n",
    "    print(random.randint(10, 20), random.random())"
   ]
  },
  {
   "cell_type": "markdown",
   "metadata": {},
   "source": [
    "If we run this code again, the sequence will still be different:"
   ]
  },
  {
   "cell_type": "code",
   "execution_count": 5,
   "metadata": {},
   "outputs": [
    {
     "name": "stdout",
     "output_type": "stream",
     "text": [
      "19 0.9021659504395827\n",
      "14 0.09876334465914771\n",
      "11 0.8988382879679935\n",
      "20 0.33019721859799855\n",
      "18 0.1007012080683658\n",
      "16 0.31619669952159346\n",
      "20 0.9130110532378982\n",
      "18 0.47700977655271704\n",
      "18 0.2604923103919594\n",
      "18 0.9159944803568847\n"
     ]
    }
   ],
   "source": [
    "for i in range(10):\n",
    "    print(random.randint(10, 20), random.random())"
   ]
  },
  {
   "cell_type": "markdown",
   "metadata": {},
   "source": [
    "Instead what we have to do is reset the seed (which happens if you set the seed to a specific number at the start of running your program - then evey random number generated will be repeatable from run to run).\n",
    "\n",
    "Here, we just need to reset the seed before running that loop to get the same effect:"
   ]
  },
  {
   "cell_type": "code",
   "execution_count": 6,
   "metadata": {},
   "outputs": [
    {
     "name": "stdout",
     "output_type": "stream",
     "text": [
      "16 0.7579544029403025\n",
      "16 0.04048437818077755\n",
      "18 0.48592769656281265\n",
      "14 0.9677999949201714\n",
      "15 0.5833820394550312\n",
      "13 0.5046868558173903\n",
      "14 0.1397457849666789\n",
      "11 0.6183689966753316\n",
      "14 0.9872592010330129\n",
      "18 0.9827854760376531\n",
      "19 0.9021659504395827\n",
      "14 0.09876334465914771\n",
      "11 0.8988382879679935\n",
      "20 0.33019721859799855\n",
      "18 0.1007012080683658\n",
      "16 0.31619669952159346\n",
      "20 0.9130110532378982\n",
      "18 0.47700977655271704\n",
      "18 0.2604923103919594\n",
      "18 0.9159944803568847\n"
     ]
    }
   ],
   "source": [
    "random.seed(0)\n",
    "for i in range(20):\n",
    "    print(random.randint(10, 20), random.random())"
   ]
  },
  {
   "cell_type": "code",
   "execution_count": 7,
   "metadata": {},
   "outputs": [
    {
     "name": "stdout",
     "output_type": "stream",
     "text": [
      "16 0.7579544029403025\n",
      "16 0.04048437818077755\n",
      "18 0.48592769656281265\n",
      "14 0.9677999949201714\n",
      "15 0.5833820394550312\n",
      "13 0.5046868558173903\n",
      "14 0.1397457849666789\n",
      "11 0.6183689966753316\n",
      "14 0.9872592010330129\n",
      "18 0.9827854760376531\n",
      "19 0.9021659504395827\n",
      "14 0.09876334465914771\n",
      "11 0.8988382879679935\n",
      "20 0.33019721859799855\n",
      "18 0.1007012080683658\n",
      "16 0.31619669952159346\n",
      "20 0.9130110532378982\n",
      "18 0.47700977655271704\n",
      "18 0.2604923103919594\n",
      "18 0.9159944803568847\n"
     ]
    }
   ],
   "source": [
    "random.seed(0)\n",
    "for i in range(20):\n",
    "    print(random.randint(10, 20), random.random())"
   ]
  },
  {
   "cell_type": "markdown",
   "metadata": {},
   "source": [
    "As you can see, the sequence of random numbers generated is now the same every time."
   ]
  },
  {
   "cell_type": "markdown",
   "metadata": {},
   "source": [
    "What's interesting is that even functions like `shuffle` will shuffle in the same order!\n",
    "\n",
    "Let's see this:"
   ]
  },
  {
   "cell_type": "code",
   "execution_count": 8,
   "metadata": {},
   "outputs": [],
   "source": [
    "def generate_random_stuff(seed=None):\n",
    "    random.seed(seed)\n",
    "    results = []\n",
    "    \n",
    "    # randint will generate the same sequence (for same seed)\n",
    "    for _ in range(5):\n",
    "        results.append(random.randint(0, 5))\n",
    "    \n",
    "    # even shuffling generates in the same way (for same seed)\n",
    "    characters = ['a', 'b', 'c']\n",
    "    random.shuffle(characters)\n",
    "    results.append(characters)\n",
    "    \n",
    "    # same with the Gaussian distribution\n",
    "    for _ in range(5):\n",
    "        results.append(random.gauss(0, 1))\n",
    "        \n",
    "    return results"
   ]
  },
  {
   "cell_type": "code",
   "execution_count": 9,
   "metadata": {},
   "outputs": [
    {
     "name": "stdout",
     "output_type": "stream",
     "text": [
      "[3, 1, 0, 4, 2, ['c', 'b', 'a'], 0.8471276984200786, -0.9766950581952438, 0.7311947385204359, -1.1946235528009979, -1.3729948409613397]\n"
     ]
    }
   ],
   "source": [
    "print(generate_random_stuff())"
   ]
  },
  {
   "cell_type": "code",
   "execution_count": 10,
   "metadata": {},
   "outputs": [
    {
     "name": "stdout",
     "output_type": "stream",
     "text": [
      "[0, 2, 1, 4, 4, ['a', 'c', 'b'], -1.9089080802619567, -0.6170214223945648, 0.8356165926465022, -0.02407707323247534, 1.8242835863823277]\n"
     ]
    }
   ],
   "source": [
    "print(generate_random_stuff())"
   ]
  },
  {
   "cell_type": "markdown",
   "metadata": {},
   "source": [
    "Now let's use a seed value:"
   ]
  },
  {
   "cell_type": "code",
   "execution_count": 11,
   "metadata": {},
   "outputs": [
    {
     "name": "stdout",
     "output_type": "stream",
     "text": [
      "[3, 3, 0, 2, 4, ['a', 'c', 'b'], 1.6391095109274887, -0.9249345372119703, 0.9223306019157185, -0.1891931090669293, 0.5456115709634167]\n"
     ]
    }
   ],
   "source": [
    "print(generate_random_stuff(0))"
   ]
  },
  {
   "cell_type": "code",
   "execution_count": 12,
   "metadata": {},
   "outputs": [
    {
     "name": "stdout",
     "output_type": "stream",
     "text": [
      "[3, 3, 0, 2, 4, ['a', 'c', 'b'], 1.6391095109274887, -0.9249345372119703, 0.9223306019157185, -0.1891931090669293, 0.5456115709634167]\n"
     ]
    }
   ],
   "source": [
    "print(generate_random_stuff(0))"
   ]
  },
  {
   "cell_type": "markdown",
   "metadata": {},
   "source": [
    "As long as we use the same seed value the results are repeatable. But if we set different seed values the sequences will be different (but still be the same for the same seed):"
   ]
  },
  {
   "cell_type": "code",
   "execution_count": 13,
   "metadata": {},
   "outputs": [
    {
     "name": "stdout",
     "output_type": "stream",
     "text": [
      "[1, 3, 3, 1, 5, ['a', 'c', 'b'], -1.639893943131093, 0.7278930291928232, -0.4000719319137612, -0.08390378703116254, -0.3013546798244102]\n"
     ]
    }
   ],
   "source": [
    "print(generate_random_stuff(100))"
   ]
  },
  {
   "cell_type": "code",
   "execution_count": 14,
   "metadata": {
    "scrolled": true
   },
   "outputs": [
    {
     "name": "stdout",
     "output_type": "stream",
     "text": [
      "[1, 3, 3, 1, 5, ['a', 'c', 'b'], -1.639893943131093, 0.7278930291928232, -0.4000719319137612, -0.08390378703116254, -0.3013546798244102]\n"
     ]
    }
   ],
   "source": [
    "print(generate_random_stuff(100))"
   ]
  },
  {
   "cell_type": "markdown",
   "metadata": {},
   "source": [
    "Lastly let's see how we would calculate the frequency of randomly generated integers, just to see how even the distribution is.\n",
    "\n",
    "Basically, given a sequence of random integers, we are going to create a dictionary that contains the integers as keys, and the values will the frequency of each:"
   ]
  },
  {
   "cell_type": "code",
   "execution_count": 15,
   "metadata": {},
   "outputs": [],
   "source": [
    "def freq_analysis(lst):\n",
    "    return {k: lst.count(k) for k in set(lst)}"
   ]
  },
  {
   "cell_type": "code",
   "execution_count": 16,
   "metadata": {},
   "outputs": [],
   "source": [
    "lst = [random.randint(0, 10) for _ in range(100)]"
   ]
  },
  {
   "cell_type": "code",
   "execution_count": 17,
   "metadata": {},
   "outputs": [
    {
     "name": "stdout",
     "output_type": "stream",
     "text": [
      "[10, 3, 5, 3, 4, 3, 2, 2, 3, 5, 5, 10, 6, 3, 6, 7, 8, 4, 6, 2, 10, 10, 1, 2, 0, 9, 6, 2, 9, 2, 3, 2, 0, 10, 3, 7, 10, 6, 2, 9, 8, 0, 9, 3, 9, 8, 4, 9, 5, 8, 10, 5, 8, 5, 7, 6, 0, 1, 4, 10, 6, 4, 3, 6, 8, 7, 9, 4, 2, 0, 10, 9, 5, 2, 0, 4, 1, 0, 9, 3, 4, 8, 9, 3, 10, 9, 5, 5, 7, 0, 1, 7, 3, 8, 1, 9, 3, 0, 6, 1]\n"
     ]
    }
   ],
   "source": [
    "print(lst)"
   ]
  },
  {
   "cell_type": "code",
   "execution_count": 18,
   "metadata": {},
   "outputs": [
    {
     "data": {
      "text/plain": [
       "{0: 9, 1: 6, 2: 10, 3: 13, 4: 8, 5: 9, 6: 9, 7: 6, 8: 8, 9: 12, 10: 10}"
      ]
     },
     "execution_count": 18,
     "metadata": {},
     "output_type": "execute_result"
    }
   ],
   "source": [
    "random.seed(0)\n",
    "freq_analysis(lst)"
   ]
  },
  {
   "cell_type": "code",
   "execution_count": 19,
   "metadata": {},
   "outputs": [
    {
     "data": {
      "text/plain": [
       "{0: 90935,\n",
       " 1: 91184,\n",
       " 2: 91002,\n",
       " 3: 91042,\n",
       " 4: 90766,\n",
       " 5: 91072,\n",
       " 6: 90678,\n",
       " 7: 90985,\n",
       " 8: 90409,\n",
       " 9: 91383,\n",
       " 10: 90544}"
      ]
     },
     "execution_count": 19,
     "metadata": {},
     "output_type": "execute_result"
    }
   ],
   "source": [
    "random.seed(0)\n",
    "freq_analysis([random.randint(0, 10) for _ in range(1_000_000)])"
   ]
  },
  {
   "cell_type": "markdown",
   "metadata": {},
   "source": [
    "Of course, it usually pays to know what's in the standard library :-)\n",
    "\n",
    "The collections library has a Counter class that can be used to do this precise thing!"
   ]
  },
  {
   "cell_type": "code",
   "execution_count": 20,
   "metadata": {},
   "outputs": [],
   "source": [
    "from collections import Counter"
   ]
  },
  {
   "cell_type": "code",
   "execution_count": 21,
   "metadata": {},
   "outputs": [
    {
     "data": {
      "text/plain": [
       "Counter({6: 90678,\n",
       "         0: 90935,\n",
       "         4: 90766,\n",
       "         8: 90409,\n",
       "         7: 90985,\n",
       "         5: 91072,\n",
       "         9: 91383,\n",
       "         3: 91042,\n",
       "         2: 91002,\n",
       "         1: 91184,\n",
       "         10: 90544})"
      ]
     },
     "execution_count": 21,
     "metadata": {},
     "output_type": "execute_result"
    }
   ],
   "source": [
    "random.seed(0)\n",
    "Counter([random.randint(0, 10) for _ in range(1_000_000)])"
   ]
  },
  {
   "cell_type": "code",
   "execution_count": null,
   "metadata": {
    "collapsed": true
   },
   "outputs": [],
   "source": []
  }
 ],
 "metadata": {
  "kernelspec": {
   "display_name": "Python 3",
   "language": "python",
   "name": "python3"
  },
  "language_info": {
   "codemirror_mode": {
    "name": "ipython",
    "version": 3
   },
   "file_extension": ".py",
   "mimetype": "text/x-python",
   "name": "python",
   "nbconvert_exporter": "python",
   "pygments_lexer": "ipython3",
   "version": "3.8.3"
  }
 },
 "nbformat": 4,
 "nbformat_minor": 2
}
