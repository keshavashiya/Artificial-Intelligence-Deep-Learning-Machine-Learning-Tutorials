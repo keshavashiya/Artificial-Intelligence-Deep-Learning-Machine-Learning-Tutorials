{
 "cells": [
  {
   "cell_type": "markdown",
   "metadata": {},
   "source": [
    "A *set* is a collection of objects. We will see many sorts of sets throughout this notebook series. Perhaps the most common will be sets of numbers. For instance, we have the set of *natural numbers*\n",
    "\n",
    "$$\n",
    "\\mathbb{N}=\\{1,2,3, \\ldots\\}\n",
    ",$$\n",
    "\n",
    "the set of *integers*,\n",
    "\n",
    "$$\n",
    "\\mathbb{Z}=\\{\\ldots,-2,-1,0,1,2, \\ldots\\}\n",
    "$$\n",
    "and the set of *rational numbers*\n",
    "\n",
    "$$\n",
    "\\mathbb{Q}=\\left\\{\\frac{a}{b}: a, b \\in \\mathbb{Z}, b \\neq 0\\right\\}\n",
    ".$$"
   ]
  },
  {
   "cell_type": "code",
   "execution_count": null,
   "metadata": {},
   "outputs": [],
   "source": []
  }
 ],
 "metadata": {
  "kernelspec": {
   "display_name": "Python 3",
   "language": "python",
   "name": "python3"
  },
  "language_info": {
   "codemirror_mode": {
    "name": "ipython",
    "version": 3
   },
   "file_extension": ".py",
   "mimetype": "text/x-python",
   "name": "python",
   "nbconvert_exporter": "python",
   "pygments_lexer": "ipython3",
   "version": "3.7.4"
  }
 },
 "nbformat": 4,
 "nbformat_minor": 2
}
