{
 "cells": [
  {
   "cell_type": "markdown",
   "metadata": {},
   "source": [
    "Here are a few definitions and basic properties of matrices. \n",
    "\n",
    "Those who are not yet familiar with these terms can simply assume that the entries are real numbers.\n",
    "\n",
    "Let $R$ be a ring and $m$ and $n$ positive integers. Then an $m \\times n$ matrix over $R$ is an array of elements of $R$ with $m$ rows and $n$ columns. If our matrix is $A$ then we write $a_{i j}$ for the $(i, j)$ -entry of $A$; that is,\n",
    "$$\n",
    "A=\\left(\\begin{array}{cccc}\n",
    "a_{11} & a_{12} & \\cdots & a_{1 n} \\\\\n",
    "a_{21} & a_{22} & \\cdots & a_{2 n} \\\\\n",
    "\\vdots & \\vdots & \\ddots & \\vdots \\\\\n",
    "a_{m 1} & a_{m 2} & \\cdots & a_{m n}\n",
    "\\end{array}\\right)\n",
    "$$\n",
    "Example B.I. If we let\n",
    "$$\n",
    "A=\\left(\\begin{array}{lll}\n",
    "4 & 6 & 7 \\\\\n",
    "3 & 8 & 5\n",
    "\\end{array}\\right)\n",
    "$$\n",
    "then $A$ is a $2 \\times 3$ matrix over $\\mathbb{R}$. Furthermore, $a_{12}=6$ and $a_{21}=3$"
   ]
  },
  {
   "cell_type": "code",
   "execution_count": null,
   "metadata": {},
   "outputs": [],
   "source": []
  }
 ],
 "metadata": {
  "kernelspec": {
   "display_name": "Python 3",
   "language": "python",
   "name": "python3"
  },
  "language_info": {
   "codemirror_mode": {
    "name": "ipython",
    "version": 3
   },
   "file_extension": ".py",
   "mimetype": "text/x-python",
   "name": "python",
   "nbconvert_exporter": "python",
   "pygments_lexer": "ipython3",
   "version": "3.7.4"
  }
 },
 "nbformat": 4,
 "nbformat_minor": 2
}
